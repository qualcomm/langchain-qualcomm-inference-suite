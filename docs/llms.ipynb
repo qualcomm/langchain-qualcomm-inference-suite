{
 "cells": [
  {
   "cell_type": "raw",
   "id": "67db2992",
   "metadata": {},
   "source": [
    "---\n",
    "sidebar_label: Qualcomm Inference Suite\n",
    "---"
   ]
  },
  {
   "cell_type": "markdown",
   "id": "9597802c",
   "metadata": {},
   "source": [
    "# QISLLM\n",
    "\n",
    "This will help you get started with Qualcom Inference Suite completion models (LLMs) using LangChain. For detailed documentation on `QISLLM` features and configuration options, please refer to the [API reference](https://api.python.langchain.com/en/latest/llms/langchain_qualcomm_inference_suite.llms.QISLLM.html).\n",
    "\n",
    "## Overview\n",
    "### Integration details\n",
    "\n",
    "\n",
    "| Class                                                                                                         | Package | Local | Serializable | JS support | Package downloads | Package latest |\n",
    "|:--------------------------------------------------------------------------------------------------------------| :--- | :---: | :---: |  :---: | :---: | :---: |\n",
    "| [QISLLM](https://api.python.langchain.com/en/latest/llms/langchain_qualcomm_inference_suite.llms.QISLLM.html) | [langchain-qualcomm-inference-suite](https://api.python.langchain.com/en/latest/langchain_qualcomm_inference_suite_api_reference.html) | ✅/❌ | beta/❌ | ✅/❌ | ![PyPI - Downloads](https://img.shields.io/pypi/dm/langchain-qualcomm-inference-suite?style=flat-square&label=%20) | ![PyPI - Version](https://img.shields.io/pypi/v/langchain-qualcomm-inference-suite?style=flat-square&label=%20) |\n",
    "\n",
    "## Setup\n",
    "\n",
    "\n",
    "To access Qualcomm Inference Suite models please reach out to your Qualcomm Inference Suite service provider for support. They will provide you an API key and API endpoint. Then you can and install and make use of the `langchain-qualcomm-inference-suite` integration package.\n",
    "\n",
    "### Credentials\n",
    "\n",
    "\n",
    "Please reach out to your Qualcomm Inference Suite service provider for support to generate an API key and obtain the API endpoint. Once you've done this set the `IMAGINE_API_KEY` and `IMAGINE_API_ENDPOINT` environment variables:"
   ]
  },
  {
   "cell_type": "code",
   "id": "bc51e756",
   "metadata": {
    "ExecuteTime": {
     "end_time": "2025-04-11T00:00:31.027793Z",
     "start_time": "2025-04-11T00:00:03.253665Z"
    }
   },
   "source": [
    "import getpass\n",
    "import os\n",
    "\n",
    "if not os.getenv(\"IMAGINE_API_KEY\"):\n",
    "    os.environ[\"IMAGINE_API_KEY\"] = getpass.getpass(\"Enter your Qualcomm Inference Suite API key: \")\n",
    "if not os.getenv(\"IMAGINE_API_ENDPOINT\"):\n",
    "    os.environ[\"IMAGINE_API_ENDPOINT\"] = input(\"Enter your Qualcomm Inference Suite API endpoint: \")"
   ],
   "outputs": [],
   "execution_count": 1
  },
  {
   "cell_type": "markdown",
   "id": "809c6577",
   "metadata": {},
   "source": [
    "### Installation\n",
    "\n",
    "\n",
    "The LangChain Qualcomm Inference Suite integration lives in the `langchain-qualcomm-inference-suite` package:"
   ]
  },
  {
   "cell_type": "code",
   "execution_count": null,
   "id": "59c710c4",
   "metadata": {},
   "outputs": [],
   "source": "%pip install -qU langchain-qualcomm-inference-suite"
  },
  {
   "cell_type": "markdown",
   "id": "0a760037",
   "metadata": {},
   "source": [
    "## Instantiation\n",
    "\n",
    "Now we can instantiate our model object and generate chat completions:\n",
    "\n",
    "- TODO: Update model instantiation with relevant params."
   ]
  },
  {
   "cell_type": "code",
   "id": "a0562a13",
   "metadata": {
    "ExecuteTime": {
     "end_time": "2025-04-11T00:00:34.365326Z",
     "start_time": "2025-04-11T00:00:33.144741Z"
    }
   },
   "source": [
    "from langchain_qualcomm_inference_suite import QISLLM\n",
    "\n",
    "llm = QISLLM(\n",
    "    model=\"Llama-3.1-8B\",\n",
    "    temperature=0,\n",
    "    max_tokens=None,\n",
    "    timeout=None,\n",
    "    max_retries=2,\n",
    "    # other params...\n",
    ")"
   ],
   "outputs": [],
   "execution_count": 2
  },
  {
   "cell_type": "markdown",
   "id": "0ee90032",
   "metadata": {},
   "source": "## Invocation\n"
  },
  {
   "cell_type": "code",
   "id": "035dea0f",
   "metadata": {
    "tags": [],
    "ExecuteTime": {
     "end_time": "2025-04-10T23:40:01.568366Z",
     "start_time": "2025-04-10T23:39:47.269365Z"
    }
   },
   "source": [
    "input_text = \"Qualcomm is a semiconductors, software and services company that \"\n",
    "\n",
    "completion = llm.invoke(input_text)\n",
    "completion"
   ],
   "outputs": [
    {
     "data": {
      "text/plain": [
       "\"\\xa0designs, manufactures, and markets digital wireless telecommunications products and services based on CDMA, OFDMA and other technologies. Qualcomm is a leading developer of Code Division Multiple Access (CDMA) wireless technology and the company's products are used in a wide range of applications, including mobile devices, automotive systems, Internet of Things (IoT) devices, and more.\\nQualcomm's products include:\\nQualcomm Snapdragon processors, which are used in many mobile devices, including smartphones and tablets.\\nQualcomm QCS400 and QCS605 processors, which are used in IoT devices, such as smart home devices and industrial automation systems.\\nQualcomm Snapdragon Ride, a platform for autonomous driving systems.\\nQualcomm Snapdragon Digital Health, a platform for medical devices and health-related applications.\\nQualcomm's software and services include:\\nQualcomm Snapdragon Mobile Platform, a software platform for mobile devices.\\nQualcomm Snapdragon Automotive Platform, a software platform for automotive systems.\\nQualcomm Snapdragon IoT Platform, a software platform for IoT devices.\\nQualcomm's services include:\\nQualcomm Design Services, which provides design and development services for mobile devices and other applications.\\nQualcomm Engineering Services, which provides engineering and testing services for mobile devices and other applications.\\nQualcomm's business model is based on licensing its intellectual property (IP) to other companies, which use it to develop their own products. Qualcomm also sells its own products, such as Snapdragon processors, to original equipment manufacturers (OEMs) and other companies.\\nQualcomm's revenue streams include:\\nLicensing fees from other companies that use Qualcomm's IP.\\nSales of Snapdragon processors and other products to OEMs and other companies.\\nServices revenue from design, engineering, and testing services.\\nQualcomm's customers include:\\nOriginal equipment manufacturers (OEMs) of mobile devices, such as smartphones and tablets.\\nAutomotive companies, which use Qualcomm's products in their vehicles.\\nCompanies that develop IoT devices, such as smart home devices and industrial automation systems.\\nQualcomm's competitors include:\\nIntel, which offers a range of processors and other products for mobile devices and other applications.\\nTexas Instruments, which offers a range of processors and other products for mobile devices and other applications.\\nNVIDIA, which offers a range of processors and other products for mobile devices and other applications.\\nQualcomm's market share is significant, with the company holding a leading position in the market for CDMA wireless technology and Snapdragon processors. However, the company faces intense competition from other semiconductor companies, and it must continue to innovate\""
      ]
     },
     "execution_count": 19,
     "metadata": {},
     "output_type": "execute_result"
    }
   ],
   "execution_count": 19
  },
  {
   "cell_type": "markdown",
   "id": "add38532",
   "metadata": {},
   "source": [
    "## Chaining\n",
    "\n",
    "We can [chain](/docs/how_to/sequence/) our completion model with a prompt template like so:\n"
   ]
  },
  {
   "metadata": {
    "ExecuteTime": {
     "end_time": "2025-04-11T00:00:43.011418Z",
     "start_time": "2025-04-11T00:00:39.389231Z"
    }
   },
   "cell_type": "code",
   "source": [
    "from langchain_core.prompts import PromptTemplate\n",
    "\n",
    "prompt = PromptTemplate(template=\"<|begin_of_text|><|start_header_id|>system<|end_header_id|>\\n\\nYou are a helpful AI assistant for the topic of translation.<|eot_id|><|start_header_id|>user<|end_header_id|>\\n\\nTranslate '{input}' to {output_language}.<|eot_id|><|start_header_id|>assistant<|end_header_id|>\")\n",
    "\n",
    "chain = prompt | llm\n",
    "chain.invoke(\n",
    "    {\n",
    "        \"output_language\": \"German\",\n",
    "        \"input\": \"I love programming.\",\n",
    "    }\n",
    ")"
   ],
   "id": "078e9db2",
   "outputs": [
    {
     "data": {
      "text/plain": [
       "'\\n\\nThe translation of \"I love programming\" to German is:\\n\\n\"Ich liebe Programmieren.\"\\n\\nHere\\'s a breakdown of the translation:\\n\\n* \"I\" is translated to \"Ich\"\\n* \"love\" is translated to \"liebe\"\\n* \"programming\" is translated to \"Programmieren\"\\n\\nNote that in German, the verb \"lieben\" (to love) is used in the first person singular (I) in the present tense, and the infinitive form of \"programmieren\" is used to indicate the activity of programming.'"
      ]
     },
     "execution_count": 3,
     "metadata": {},
     "output_type": "execute_result"
    }
   ],
   "execution_count": 3
  },
  {
   "cell_type": "markdown",
   "id": "e9bdfcef",
   "metadata": {},
   "source": [
    "## API reference\n",
    "\n",
    "For detailed documentation of all `QISLLM` features and configurations head to the API reference: https://api.python.langchain.com/en/latest/llms/langchain_qualcomm_inference_suite.llms.QISLLM.html"
   ]
  }
 ],
 "metadata": {
  "kernelspec": {
   "display_name": "Python 3.11.1 64-bit",
   "language": "python",
   "name": "python3"
  },
  "language_info": {
   "codemirror_mode": {
    "name": "ipython",
    "version": 3
   },
   "file_extension": ".py",
   "mimetype": "text/x-python",
   "name": "python",
   "nbconvert_exporter": "python",
   "pygments_lexer": "ipython3",
   "version": "3.9.7"
  },
  "vscode": {
   "interpreter": {
    "hash": "e971737741ff4ec9aff7dc6155a1060a59a8a6d52c757dbbe66bf8ee389494b1"
   }
  }
 },
 "nbformat": 4,
 "nbformat_minor": 5
}
