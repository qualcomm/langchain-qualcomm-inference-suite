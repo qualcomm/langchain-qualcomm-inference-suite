{
 "cells": [
  {
   "metadata": {},
   "cell_type": "markdown",
   "source": [
    "---\n",
    "sidebar_label: Qualcomm Inference Suite\n",
    "---"
   ],
   "id": "846d93dd61cfa8b0"
  },
  {
   "cell_type": "markdown",
   "id": "9a3d6f34",
   "metadata": {},
   "source": [
    "# QISEmbeddings\n",
    "\n",
    "This will help you get started with QIS embedding models using LangChain. For detailed documentation on `QISEmbeddings` features and configuration options, please refer to the [API reference](https://python.langchain.com/v0.2/api_reference/langchain_qualcomm_inference_suite/embeddings/langchain_qualcomm_inference_suite.embeddingsQISEmbeddings.html).\n",
    "\n",
    "## Overview\n",
    "### Integration details\n",
    "\n",
    "| Provider | Package |\n",
    "|:--------:|:-------:|\n",
    "| [QIS](/docs/integrations/providers/qualcomm-inference-suite/) | [langchain-qualcomm-inference-suite](https://python.langchain.com/v0.2/api_reference/langchain_qualcomm_inference_suite/embeddings/langchain_qualcomm_inference_suite.embeddingsQISEmbeddings.html) |\n",
    "\n",
    "## Setup\n",
    "\n",
    "To access Qualcomm Inference Suite embedding models please reach out to your Qualcomm Inference Suite service provider for support. They will provide you an API key and API endpoint. Then you can and install and make use of the `langchain-qualcomm-inference-suite` integration package.\n",
    "\n",
    "### Credentials\n",
    "\n",
    "Please reach out to your Qualcomm Inference Suite service provider for support to generate an API key and obtain the API endpoint. Once you've done this set the `IMAGINE_API_KEY` and `IMAGINE_API_ENDPOINT` environment variables:"
   ]
  },
  {
   "cell_type": "code",
   "id": "36521c2a",
   "metadata": {
    "ExecuteTime": {
     "end_time": "2025-04-10T22:57:36.977529Z",
     "start_time": "2025-04-10T22:57:17.069639Z"
    }
   },
   "source": [
    "import getpass\n",
    "import os\n",
    "\n",
    "if not os.getenv(\"IMAGINE_API_KEY\"):\n",
    "    os.environ[\"IMAGINE_API_KEY\"] = getpass.getpass(\"Enter your Qualcomm Inference Suite API key: \")\n",
    "if not os.getenv(\"IMAGINE_API_ENDPOINT\"):\n",
    "    os.environ[\"IMAGINE_API_ENDPOINT\"] = input(\"Enter your Qualcomm Inference Suite API endpoint: \")"
   ],
   "outputs": [],
   "execution_count": 1
  },
  {
   "cell_type": "markdown",
   "id": "d9664366",
   "metadata": {},
   "source": [
    "### Installation\n",
    "\n",
    "The LangChain Qualcomm Inference Suite integration lives in the `langchain-qualcomm-inference-suite` package:"
   ]
  },
  {
   "cell_type": "code",
   "execution_count": null,
   "id": "64853226",
   "metadata": {},
   "outputs": [],
   "source": "%pip install -qU langchain-qualcomm-inference-suite"
  },
  {
   "cell_type": "markdown",
   "id": "45dd1724",
   "metadata": {},
   "source": [
    "## Instantiation\n",
    "\n",
    "Now we can instantiate our model object and generate chat completions:\n"
   ]
  },
  {
   "cell_type": "code",
   "id": "9ea7a09b",
   "metadata": {
    "ExecuteTime": {
     "end_time": "2025-04-10T22:57:41.410059Z",
     "start_time": "2025-04-10T22:57:39.714227Z"
    }
   },
   "source": [
    "from langchain_qualcomm_inference_suite import QISEmbeddings\n",
    "\n",
    "embeddings = QISEmbeddings(\n",
    "    model=\"BAAI/bge-large-en-v1.5\",\n",
    ")"
   ],
   "outputs": [],
   "execution_count": 2
  },
  {
   "cell_type": "markdown",
   "id": "77d271b6",
   "metadata": {},
   "source": [
    "## Indexing and Retrieval\n",
    "\n",
    "Embedding models are often used in retrieval-augmented generation (RAG) flows, both as part of indexing data as well as later retrieving it. For more detailed instructions, please see our [RAG tutorials](/docs/tutorials/).\n",
    "\n",
    "Below, see how to index and retrieve data using the `embeddings` object we initialized above. In this example, we will index and retrieve a sample document in the `InMemoryVectorStore`."
   ]
  },
  {
   "cell_type": "code",
   "id": "d817716b",
   "metadata": {
    "ExecuteTime": {
     "end_time": "2025-04-10T23:05:37.246774Z",
     "start_time": "2025-04-10T23:05:35.781273Z"
    }
   },
   "source": [
    "# Create a vector store with a sample text\n",
    "from langchain_core.vectorstores import InMemoryVectorStore\n",
    "\n",
    "text = \"LangChain is the framework for building context-aware reasoning applications\"\n",
    "\n",
    "vectorstore = InMemoryVectorStore.from_texts(\n",
    "    [text],\n",
    "    embedding=embeddings,\n",
    ")\n",
    "\n",
    "# Use the vectorstore as a retriever\n",
    "retriever = vectorstore.as_retriever()\n",
    "\n",
    "# Retrieve the most similar text\n",
    "retrieved_documents = retriever.invoke(\"What is LangChain?\")\n",
    "\n",
    "# show the retrieved document's content\n",
    "retrieved_documents[0].page_content"
   ],
   "outputs": [
    {
     "data": {
      "text/plain": [
       "'LangChain is the framework for building context-aware reasoning applications'"
      ]
     },
     "execution_count": 4,
     "metadata": {},
     "output_type": "execute_result"
    }
   ],
   "execution_count": 4
  },
  {
   "cell_type": "markdown",
   "id": "e02b9855",
   "metadata": {},
   "source": [
    "## Direct Usage\n",
    "\n",
    "Under the hood, the vectorstore and retriever implementations are calling `embeddings.embed_documents(...)` and `embeddings.embed_query(...)` to create embeddings for the text(s) used in `from_texts` and retrieval `invoke` operations, respectively.\n",
    "\n",
    "You can directly call these methods to get embeddings for your own use cases.\n",
    "\n",
    "### Embed single texts\n",
    "\n",
    "You can embed single texts or documents with `embed_query`:"
   ]
  },
  {
   "cell_type": "code",
   "id": "0d2befcd",
   "metadata": {
    "ExecuteTime": {
     "end_time": "2025-04-10T23:05:45.701893Z",
     "start_time": "2025-04-10T23:05:45.046264Z"
    }
   },
   "source": [
    "single_vector = embeddings.embed_query(text)\n",
    "print(str(single_vector)[:100]) # Show the first 100 characters of the vector"
   ],
   "outputs": [
    {
     "name": "stdout",
     "output_type": "stream",
     "text": [
      "[0.029815673828125, 0.037322998046875, -0.036651611328125, -0.02178955078125, -0.0212249755859375, 0\n"
     ]
    }
   ],
   "execution_count": 5
  },
  {
   "cell_type": "markdown",
   "id": "1b5a7d03",
   "metadata": {},
   "source": [
    "### Embed multiple texts\n",
    "\n",
    "You can embed multiple texts with `embed_documents`:"
   ]
  },
  {
   "cell_type": "code",
   "id": "2f4d6e97",
   "metadata": {
    "ExecuteTime": {
     "end_time": "2025-04-10T23:05:49.659231Z",
     "start_time": "2025-04-10T23:05:48.899199Z"
    }
   },
   "source": [
    "text2 = (\n",
    "    \"LangGraph is a library for building stateful, multi-actor applications with LLMs\"\n",
    ")\n",
    "two_vectors = embeddings.embed_documents([text, text2])\n",
    "for vector in two_vectors:\n",
    "    print(str(vector)[:100]) # Show the first 100 characters of the vector"
   ],
   "outputs": [
    {
     "name": "stdout",
     "output_type": "stream",
     "text": [
      "[0.029815673828125, 0.037322998046875, -0.036651611328125, -0.02178955078125, -0.0212249755859375, 0\n",
      "[0.059814453125, 0.0281829833984375, -0.035552978515625, 0.003520965576171875, -0.023681640625, -0.0\n"
     ]
    }
   ],
   "execution_count": 6
  },
  {
   "cell_type": "markdown",
   "id": "98785c12",
   "metadata": {},
   "source": [
    "## API Reference\n",
    "\n",
    "For detailed documentation on `QISEmbeddings` features and configuration options, please refer to the [API reference](https://api.python.langchain.com/en/latest/embeddings/langchain_qualcomm_inference_suite.embeddings.QISEmbeddings.html).\n"
   ]
  }
 ],
 "metadata": {
  "kernelspec": {
   "display_name": "Python 3 (ipykernel)",
   "language": "python",
   "name": "python3"
  },
  "language_info": {
   "codemirror_mode": {
    "name": "ipython",
    "version": 3
   },
   "file_extension": ".py",
   "mimetype": "text/x-python",
   "name": "python",
   "nbconvert_exporter": "python",
   "pygments_lexer": "ipython3",
   "version": "3.10.5"
  }
 },
 "nbformat": 4,
 "nbformat_minor": 5
}
