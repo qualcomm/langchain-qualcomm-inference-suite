{
 "cells": [
  {
   "cell_type": "markdown",
   "metadata": {},
   "source": [
    "# Qualcomm Inference Suite\n",
    "\n",
    "The Qualcomm AI Inference Suite simplifies the process of creating Generative AI applications. It achieves this by merging Qualcomm AI Inference Suite API with LangChain. This combination enables the development of applications such as chatbots, generative question-answering (GQA), summarization, and workflow automation."
   ]
  },
  {
   "metadata": {},
   "cell_type": "markdown",
   "source": [
    "## Installation and Setup\n",
    "\n",
    "Install the integration package with"
   ]
  },
  {
   "metadata": {},
   "cell_type": "code",
   "outputs": [],
   "execution_count": null,
   "source": "!pip install langchain-qualcomm-inference-suite"
  },
  {
   "metadata": {},
   "cell_type": "markdown",
   "source": "Please reach out to your Qualcomm Inference Suite service provider for support to generate an API key and obtain the API endpoint. Once you've done this set the `IMAGINE_API_KEY` and `IMAGINE_API_ENDPOINT` environment variables:\n"
  },
  {
   "metadata": {},
   "cell_type": "markdown",
   "source": [
    "## Chat model\n",
    "See a [usage example](/docs/integrations/chat/qualcomm-inference-suite/)."
   ]
  },
  {
   "metadata": {},
   "cell_type": "code",
   "outputs": [],
   "execution_count": null,
   "source": "from langchain_qualcomm_inference_suite import ChatQIS"
  },
  {
   "metadata": {},
   "cell_type": "markdown",
   "source": [
    "## LLM\n",
    "\n",
    "See a [usage example](/docs/integrations/llms/qualcomm-inference-suite/).\n"
   ]
  },
  {
   "metadata": {},
   "cell_type": "code",
   "outputs": [],
   "execution_count": null,
   "source": "from langchain_qualcomm_inference_suite import QISLLM"
  },
  {
   "metadata": {},
   "cell_type": "markdown",
   "source": [
    "## Embedding Model\n",
    "\n",
    "See a [usage example](/docs/integrations/text_embedding/qualcomm-inference-suite/).\n"
   ]
  },
  {
   "metadata": {},
   "cell_type": "code",
   "outputs": [],
   "execution_count": null,
   "source": "from langchain_qualcomm_inference_suite import QISEmbeddings"
  }
 ],
 "metadata": {
  "colab": {
   "provenance": []
  },
  "kernelspec": {
   "display_name": "Python 3 (ipykernel)",
   "language": "python",
   "name": "python3"
  },
  "language_info": {
   "codemirror_mode": {
    "name": "ipython",
    "version": 3
   },
   "file_extension": ".py",
   "mimetype": "text/x-python",
   "name": "python",
   "nbconvert_exporter": "python",
   "pygments_lexer": "ipython3",
   "version": "3.10.11"
  }
 },
 "nbformat": 4,
 "nbformat_minor": 1
}
